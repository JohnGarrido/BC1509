{
  "nbformat": 4,
  "nbformat_minor": 0,
  "metadata": {
    "colab": {
      "name": "p1 transformadas",
      "provenance": [],
      "collapsed_sections": []
    },
    "kernelspec": {
      "display_name": "Python 3",
      "name": "python3"
    },
    "language_info": {
      "name": "python"
    }
  },
  "cells": [
    {
      "cell_type": "markdown",
      "metadata": {
        "id": "a7BXVRVQfMKZ"
      },
      "source": [
        "# **Prova I - Transformadas em Sinais e Sistemas Lineares**  \n",
        "**Nome**: João Vitor Garrido \\\\\n",
        "**RA**: 11201811064 \n",
        "\n",
        "---\n",
        "\n"
      ]
    },
    {
      "cell_type": "markdown",
      "metadata": {
        "id": "CKR00BE9ic5h"
      },
      "source": [
        "# **Importação dos Pacotes Utilizados**\n",
        "\n",
        "\n"
      ]
    },
    {
      "cell_type": "code",
      "metadata": {
        "id": "kSGqffe5idQe"
      },
      "source": [
        "# Bibliotecas Científicas e de Álgebra Linear\n",
        "import sympy as sp\n",
        "import numpy as np\n",
        "import math\n",
        "\n",
        "# Configurações de Visualização \n",
        "import matplotlib.pyplot as plt"
      ],
      "execution_count": null,
      "outputs": []
    },
    {
      "cell_type": "markdown",
      "metadata": {
        "id": "hf4BjFYmdcpE"
      },
      "source": [
        "# **Enunciado**\n",
        "\n",
        "\n"
      ]
    },
    {
      "cell_type": "markdown",
      "metadata": {
        "id": "JffiupnQd4YA"
      },
      "source": [
        "Considere o sinal de tensão no capacitor vc (t) como\n",
        "a saída do circuito.\n",
        "Sabendo que: \\\\\n",
        "\n",
        "$$v_{c}(t)=\\frac{1}{C} \\int_{0}^{2} i(\\tau) d \\tau$$\n",
        "\n",
        "O modelo matemático é:\n",
        "\n",
        "$$(D + 1/RC)vc (t) = (1/RC)x(t)$$\n",
        "$$ R = 0.8Ω e C = 0.1F$$"
      ]
    },
    {
      "cell_type": "markdown",
      "metadata": {
        "id": "TP2ZZRyadjcD"
      },
      "source": [
        "# **Itens II e III**\n",
        "\n",
        "Obtenha os grá\u001ccos dos sinais $v(t)$, $i(t)$ e $v_c(t)$ e os espectros de amplitude e fase dos sinais obtidos\n"
      ]
    },
    {
      "cell_type": "markdown",
      "metadata": {
        "id": "EyKA_slVZdqa"
      },
      "source": [
        "**I. Gráfico e Espectros do sinal v(t)**"
      ]
    },
    {
      "cell_type": "code",
      "metadata": {
        "id": "YPie-lDsh3L1"
      },
      "source": [
        "# Atributos do sinal\n",
        "T0 = 4\n",
        "Ts = 1\n",
        "w0 = 2*sp.pi/T0"
      ],
      "execution_count": null,
      "outputs": []
    },
    {
      "cell_type": "code",
      "metadata": {
        "id": "ONOoVsqqOjxr"
      },
      "source": [
        "# Série Trigonométrica\n",
        "a0 = 2*Ts/T0; # o coeficiente a0\n",
        "ak = lambda k: (2/(k*np.pi))*np.sin(k*2*np.pi*Ts/T0); # o coeficientes como função de k\n",
        "bk = lambda k: 0;"
      ],
      "execution_count": null,
      "outputs": []
    },
    {
      "cell_type": "code",
      "metadata": {
        "id": "oJaY0ZNSPgjR"
      },
      "source": [
        "# Série Compacta\n",
        "c0 = a0; # o coeficiente c0\n",
        "ck = lambda k: np.sqrt(ak(k)**2 + bk(k)**2); # o coeficente ck\n",
        "thk = lambda k: -np.arctan2(bk(k), ak(k)); # o ângulo theta(k)"
      ],
      "execution_count": null,
      "outputs": []
    },
    {
      "cell_type": "code",
      "metadata": {
        "id": "nxyruHgdhjbF"
      },
      "source": [
        "# Intervalo de observação\n",
        "time = np.linspace(-T0-Ts-1, T0+Ts+1, 100)"
      ],
      "execution_count": null,
      "outputs": []
    },
    {
      "cell_type": "code",
      "metadata": {
        "id": "PsDV0DPqQnyB"
      },
      "source": [
        "# Definindo a variável tempo (t) e imaginário (j)\n",
        "t = sp.symbols(\"t\")\n",
        "j = sp.I\n",
        "\n",
        "# Definindo o sinal\n",
        "trg_signal = a0\n",
        "cpc_signal = c0\n",
        "\n",
        "# Número de termos da Série de Fourier\n",
        "N = 500\n",
        "\n",
        "# Calculando para os N termos\n",
        "for k in range(1, N):\n",
        "  trg_signal += ak(k) * sp.cos(k*w0*t) + bk(k) * sp.sin(k*w0*t)\n",
        "  cpc_signal += ck(k) * sp.cos(k*w0*t + thk(k))"
      ],
      "execution_count": null,
      "outputs": []
    },
    {
      "cell_type": "code",
      "metadata": {
        "id": "deTzIWXOYirH"
      },
      "source": [
        "# Transformando para relação funcional\n",
        "trg_signal_λ = sp.lambdify(t, trg_signal, \n",
        "            modules=[\"numpy\"])"
      ],
      "execution_count": null,
      "outputs": []
    },
    {
      "cell_type": "code",
      "metadata": {
        "colab": {
          "base_uri": "https://localhost:8080/",
          "height": 312
        },
        "id": "i4ajbC4aZzOs",
        "outputId": "c460e3cc-8aad-42dc-ea7f-4e65bd51cb0e"
      },
      "source": [
        "# Plot da função\n",
        "plt.plot(time, trg_signal_λ(time))\n",
        "plt.title(\"Amplitude das fases do sinal x(t)\")\n",
        "plt.xlabel(\"Amplitude (A)\")\n",
        "plt.ylabel(\"Tempo (t)\")"
      ],
      "execution_count": null,
      "outputs": [
        {
          "output_type": "execute_result",
          "data": {
            "text/plain": [
              "Text(0, 0.5, 'Tempo (t)')"
            ]
          },
          "metadata": {
            "tags": []
          },
          "execution_count": 8
        },
        {
          "output_type": "display_data",
          "data": {
            "image/png": "[encoded data removed]",
            "text/plain": [
              "<Figure size 432x288 with 1 Axes>"
            ]
          },
          "metadata": {
            "tags": [],
            "needs_background": "light"
          }
        }
      ]
    },
    {
      "cell_type": "code",
      "metadata": {
        "id": "6ciJ8qFTdnDu"
      },
      "source": [
        "# Atributos da Série Complexa\n",
        "A = 1\n",
        "signal = 1 # x(t) de T0 a Ts\n",
        "k = sp.symbols(\"k\")\n",
        "\n",
        "# Definindo a Série Complexa\n",
        "Xk = (T0)**(-1) * (sp.Integral(signal * sp.exp(-j*k*w0*t), \n",
        "                         (t, -Ts, Ts)))\n",
        "Xk_solved = sp.simplify(sp.combsimp(Xk.doit()))"
      ],
      "execution_count": null,
      "outputs": []
    },
    {
      "cell_type": "code",
      "metadata": {
        "id": "1r-5CZZNELe2"
      },
      "source": [
        "# Obtendo valores do espectro de amplitude de x(t)\n",
        "range_x_ampli = np.linspace(0, 50, 50 + 1)\n",
        "range_y_ampli = [abs(Xk_solved.subs(k, i)) for i in range_x_ampli]"
      ],
      "execution_count": null,
      "outputs": []
    },
    {
      "cell_type": "code",
      "metadata": {
        "id": "ZUoNEsiRGx6S"
      },
      "source": [
        "# Obtendo valores do espectro de fase de x(t)\n",
        "phase = lambda i: sp.atan((2*sp.im(Xk_solved.subs(k, i))) / (2*sp.re(Xk_solved.subs(k, i))))\n",
        "\n",
        "raw_phases = [abs(phase(k)) for k in range_x_ampli]\n",
        "range_y_phases = [-np.pi if phs == sp.nan else phs for phs in raw_phases]"
      ],
      "execution_count": null,
      "outputs": []
    },
    {
      "cell_type": "code",
      "metadata": {
        "colab": {
          "base_uri": "https://localhost:8080/",
          "height": 366
        },
        "id": "paibqlHmEMm_",
        "outputId": "283616e3-b969-47c8-da88-5c366189f66c"
      },
      "source": [
        "plt.stem(range_x_ampli, range_y_ampli)\n",
        "plt.title(\"Espectro de Amplitude de x(t)\")\n",
        "plt.xlabel(\"k\")\n",
        "plt.ylabel(\"Corrente I(t)\")"
      ],
      "execution_count": null,
      "outputs": [
        {
          "output_type": "stream",
          "text": [
            "/usr/local/lib/python3.7/dist-packages/ipykernel_launcher.py:1: UserWarning: In Matplotlib 3.3 individual lines on a stem plot will be added as a LineCollection instead of individual lines. This significantly improves the performance of a stem plot. To remove this warning and switch to the new behaviour, set the \"use_line_collection\" keyword argument to True.\n",
            "  \"\"\"Entry point for launching an IPython kernel.\n"
          ],
          "name": "stderr"
        },
        {
          "output_type": "execute_result",
          "data": {
            "text/plain": [
              "Text(0, 0.5, 'Corrente I(t)')"
            ]
          },
          "metadata": {
            "tags": []
          },
          "execution_count": 12
        },
        {
          "output_type": "display_data",
          "data": {
            "image/png": "[encoded data removed]",
            "text/plain": [
              "<Figure size 432x288 with 1 Axes>"
            ]
          },
          "metadata": {
            "tags": [],
            "needs_background": "light"
          }
        }
      ]
    },
    {
      "cell_type": "code",
      "metadata": {
        "colab": {
          "base_uri": "https://localhost:8080/",
          "height": 366
        },
        "id": "_VrwoZ4-Vff5",
        "outputId": "309546be-8b3c-48bc-ba70-1fc6733af72a"
      },
      "source": [
        "plt.stem(range_x_ampli, range_y_phases)\n",
        "plt.title(\"Espectro de Frequência de x(t)\")\n",
        "plt.xlabel(\"k\")\n",
        "plt.ylabel(\"Frequência\")"
      ],
      "execution_count": null,
      "outputs": [
        {
          "output_type": "stream",
          "text": [
            "/usr/local/lib/python3.7/dist-packages/ipykernel_launcher.py:1: UserWarning: In Matplotlib 3.3 individual lines on a stem plot will be added as a LineCollection instead of individual lines. This significantly improves the performance of a stem plot. To remove this warning and switch to the new behaviour, set the \"use_line_collection\" keyword argument to True.\n",
            "  \"\"\"Entry point for launching an IPython kernel.\n"
          ],
          "name": "stderr"
        },
        {
          "output_type": "execute_result",
          "data": {
            "text/plain": [
              "Text(0, 0.5, 'Frequência')"
            ]
          },
          "metadata": {
            "tags": []
          },
          "execution_count": 13
        },
        {
          "output_type": "display_data",
          "data": {
            "image/png": "[encoded data removed]",
            "text/plain": [
              "<Figure size 432x288 with 1 Axes>"
            ]
          },
          "metadata": {
            "tags": [],
            "needs_background": "light"
          }
        }
      ]
    },
    {
      "cell_type": "markdown",
      "metadata": {
        "id": "xHI0Jy0sKyrJ"
      },
      "source": [
        "**II. Gráfico e Espectros do sinal i(t)**"
      ]
    },
    {
      "cell_type": "code",
      "metadata": {
        "id": "cjSqpl3MEPsr"
      },
      "source": [
        "# Valor Nominal das Componentes\n",
        "R = 0.8\n",
        "C = 0.1"
      ],
      "execution_count": null,
      "outputs": []
    },
    {
      "cell_type": "code",
      "metadata": {
        "id": "Vv9Z2nwsLEAq"
      },
      "source": [
        "# Resposta em Frequência\n",
        "H_i = (j*k*2*sp.pi / 4 / R) / (j*k*2*sp.pi/4 + (1/(R*C)))\n",
        "\n",
        "# Definindo Xk_til\n",
        "Xk_solved_λ = sp.lambdify(k, Xk_solved,\n",
        "                          modules=[\"numpy\"])\n",
        "\n",
        "Xk_til = Xk_solved * H_i\n",
        "Xk_til_λ = sp.lambdify(k, Xk_til, \n",
        "                       modules=[\"numpy\"])\n",
        "\n",
        "a0_til = 0\n",
        "ak_til = lambda i: 2*sp.re(Xk_til_λ(i))\n",
        "bk_til = lambda i: -2*sp.im(Xk_til_λ(i))"
      ],
      "execution_count": null,
      "outputs": []
    },
    {
      "cell_type": "code",
      "metadata": {
        "id": "V07-1UKMRJjd"
      },
      "source": [
        "N = 100;\n",
        "it = a0_til\n",
        "\n",
        "for k in range(1, N):\n",
        "  it += (Xk_solved_λ(k) * ((j*k*w0/R)/ (j*k*w0+ (1/(R*C)))) * sp.exp(j*k*w0*t))"
      ],
      "execution_count": null,
      "outputs": []
    },
    {
      "cell_type": "code",
      "metadata": {
        "id": "Us_j6fsjTiqQ"
      },
      "source": [
        "it_λ = sp.lambdify(t, it, modules=[\"numpy\"])"
      ],
      "execution_count": null,
      "outputs": []
    },
    {
      "cell_type": "code",
      "metadata": {
        "colab": {
          "base_uri": "https://localhost:8080/",
          "height": 346
        },
        "id": "yPf-YzrjTxpp",
        "outputId": "5fab06d6-dbd5-471c-e197-621302bb873e"
      },
      "source": [
        "plt.plot(np.linspace(0, 10, 10000), it_λ(np.linspace(0, 10, 10000)))\n",
        "plt.title(\"Amplitude das fases do sinal x(t)\");\n",
        "plt.xlabel(\"Tempo (t)\")\n",
        "plt.ylabel(\"Amplitude (A)\")"
      ],
      "execution_count": null,
      "outputs": [
        {
          "output_type": "stream",
          "text": [
            "/usr/local/lib/python3.7/dist-packages/numpy/core/_asarray.py:83: ComplexWarning: Casting complex values to real discards the imaginary part\n",
            "  return array(a, dtype, copy=False, order=order)\n"
          ],
          "name": "stderr"
        },
        {
          "output_type": "execute_result",
          "data": {
            "text/plain": [
              "Text(0, 0.5, 'Amplitude (A)')"
            ]
          },
          "metadata": {
            "tags": []
          },
          "execution_count": 18
        },
        {
          "output_type": "display_data",
          "data": {
            "image/png": "[encoded data removed]",
            "text/plain": [
              "<Figure size 432x288 with 1 Axes>"
            ]
          },
          "metadata": {
            "tags": [],
            "needs_background": "light"
          }
        }
      ]
    },
    {
      "cell_type": "code",
      "metadata": {
        "colab": {
          "base_uri": "https://localhost:8080/"
        },
        "id": "E8P97Hi8WQNz",
        "outputId": "72ace092-524b-4b28-c9ec-d823dfc69660"
      },
      "source": [
        "range_y_i_ampli = [abs(Xk_til_λ(i)) for i in range_x_ampli]"
      ],
      "execution_count": null,
      "outputs": [
        {
          "output_type": "stream",
          "text": [
            "<string>:2: RuntimeWarning: invalid value encountered in double_scalars\n"
          ],
          "name": "stderr"
        }
      ]
    },
    {
      "cell_type": "code",
      "metadata": {
        "colab": {
          "base_uri": "https://localhost:8080/",
          "height": 366
        },
        "id": "lenzVpwkWtk5",
        "outputId": "5ca2c2b9-ca6a-44f9-b961-28359ff15aa1"
      },
      "source": [
        "plt.stem(range_x_ampli, range_y_i_ampli);\n",
        "plt.title(\"Espectro de Amplitude de i(t)\");\n",
        "plt.xlabel(\"k\")\n",
        "plt.ylabel(\"Módulo de X(k)\")"
      ],
      "execution_count": null,
      "outputs": [
        {
          "output_type": "stream",
          "text": [
            "/usr/local/lib/python3.7/dist-packages/ipykernel_launcher.py:1: UserWarning: In Matplotlib 3.3 individual lines on a stem plot will be added as a LineCollection instead of individual lines. This significantly improves the performance of a stem plot. To remove this warning and switch to the new behaviour, set the \"use_line_collection\" keyword argument to True.\n",
            "  \"\"\"Entry point for launching an IPython kernel.\n"
          ],
          "name": "stderr"
        },
        {
          "output_type": "execute_result",
          "data": {
            "text/plain": [
              "Text(0, 0.5, 'Módulo de X(k)')"
            ]
          },
          "metadata": {
            "tags": []
          },
          "execution_count": 20
        },
        {
          "output_type": "display_data",
          "data": {
            "image/png": "[encoded data removed]",
            "text/plain": [
              "<Figure size 432x288 with 1 Axes>"
            ]
          },
          "metadata": {
            "tags": [],
            "needs_background": "light"
          }
        }
      ]
    },
    {
      "cell_type": "code",
      "metadata": {
        "colab": {
          "base_uri": "https://localhost:8080/"
        },
        "id": "q3zHK_d1XPU7",
        "outputId": "4bda510f-7e1e-40db-8104-c021751f5ca3"
      },
      "source": [
        "# Obtendo valores do espectro de fase de i(t)\n",
        "phase_i = lambda i: -sp.atan((2*sp.im(Xk_til_λ(i))) / (2*sp.re(Xk_til_λ(i))));\n",
        "\n",
        "raw_phases_i = [phase_i(k) for k in range_x_ampli]\n",
        "range_y_phases_i = [-np.pi if phs == sp.nan else phs for phs in raw_phases_i]"
      ],
      "execution_count": null,
      "outputs": [
        {
          "output_type": "stream",
          "text": [
            "<string>:2: RuntimeWarning: invalid value encountered in double_scalars\n"
          ],
          "name": "stderr"
        }
      ]
    },
    {
      "cell_type": "code",
      "metadata": {
        "colab": {
          "base_uri": "https://localhost:8080/",
          "height": 334
        },
        "id": "Eys8cPizXmIV",
        "outputId": "04d04ba1-e624-471b-c1f3-a3233e301f0d"
      },
      "source": [
        "plt.stem(range_x_ampli, range_y_phases_i)\n",
        "plt.title(\"Espectro de Frequência de i(t)\");"
      ],
      "execution_count": null,
      "outputs": [
        {
          "output_type": "stream",
          "text": [
            "/usr/local/lib/python3.7/dist-packages/ipykernel_launcher.py:1: UserWarning: In Matplotlib 3.3 individual lines on a stem plot will be added as a LineCollection instead of individual lines. This significantly improves the performance of a stem plot. To remove this warning and switch to the new behaviour, set the \"use_line_collection\" keyword argument to True.\n",
            "  \"\"\"Entry point for launching an IPython kernel.\n"
          ],
          "name": "stderr"
        },
        {
          "output_type": "display_data",
          "data": {
            "image/png": "[encoded data removed]",
            "text/plain": [
              "<Figure size 432x288 with 1 Axes>"
            ]
          },
          "metadata": {
            "tags": [],
            "needs_background": "light"
          }
        }
      ]
    },
    {
      "cell_type": "markdown",
      "metadata": {
        "id": "f8jq63vHK0_9"
      },
      "source": [
        "**III. Gráfico e Espectros do sinal vc(t)**"
      ]
    },
    {
      "cell_type": "code",
      "metadata": {
        "colab": {
          "base_uri": "https://localhost:8080/",
          "height": 52
        },
        "id": "Drr6NVMIT-El",
        "outputId": "7e8d2cc7-6186-4da3-e8c6-264fc4f301f8"
      },
      "source": [
        "# Modelo matemático\n",
        "Enn = sp.Function(\"Enn\") # Resposta de Entrada Nula\n",
        "Esn = sp.Function(\"Esn\") # Resposta de Estado Nulo\n",
        "\n",
        "# Modelo Matemático\n",
        "model = sp.Eq(sp.diff(Enn(t), t, 1) + (1/(R*C)) * Enn(t), 0)\n",
        "model"
      ],
      "execution_count": null,
      "outputs": [
        {
          "output_type": "execute_result",
          "data": {
            "text/latex": "$\\displaystyle 12.5 \\operatorname{Enn}{\\left(t \\right)} + \\frac{d}{d t} \\operatorname{Enn}{\\left(t \\right)} = 0$",
            "text/plain": [
              "Eq(12.5*Enn(t) + Derivative(Enn(t), t), 0)"
            ]
          },
          "metadata": {
            "tags": []
          },
          "execution_count": 23
        }
      ]
    },
    {
      "cell_type": "code",
      "metadata": {
        "id": "MnWYB5zrWQ_E"
      },
      "source": [
        "# Aplicando o Impulso Unitário\n",
        "dirac = sp.DiracDelta(t)\n",
        "resposta = sp.dsolve(model, hint=\"best\")"
      ],
      "execution_count": null,
      "outputs": []
    },
    {
      "cell_type": "code",
      "metadata": {
        "colab": {
          "base_uri": "https://localhost:8080/",
          "height": 38
        },
        "id": "oYLReh0TUXNT",
        "outputId": "5519dc25-a687-43bc-c352-19b00f99f63d"
      },
      "source": [
        "# Verificando a resposta do sistema\n",
        "resposta"
      ],
      "execution_count": null,
      "outputs": [
        {
          "output_type": "execute_result",
          "data": {
            "text/latex": "$\\displaystyle \\operatorname{Enn}{\\left(t \\right)} = C_{1} e^{- 12.5 t}$",
            "text/plain": [
              "Eq(Enn(t), C1*exp(-12.5*t))"
            ]
          },
          "metadata": {
            "tags": []
          },
          "execution_count": 25
        }
      ]
    },
    {
      "cell_type": "code",
      "metadata": {
        "colab": {
          "base_uri": "https://localhost:8080/"
        },
        "id": "NS6CFVdQX4Iv",
        "outputId": "9c7c0a6d-57f7-449b-9e2c-01eabd2bd463"
      },
      "source": [
        "# Descobrindo a constante pelo lado direito da equação\n",
        "constant = \"C1\"\n",
        "equation_right_side = resposta.rhs\n",
        "C1 = sp.solve(sp.Eq(equation_right_side.subs(t, 0), 1))\n",
        "C1"
      ],
      "execution_count": null,
      "outputs": [
        {
          "output_type": "execute_result",
          "data": {
            "text/plain": [
              "[1]"
            ]
          },
          "metadata": {
            "tags": []
          },
          "execution_count": 26
        }
      ]
    },
    {
      "cell_type": "code",
      "metadata": {
        "id": "h-J3MDMCZ-LO"
      },
      "source": [
        "# Aplicando o valor de C1 \n",
        "Enn = resposta.rhs.subs(constant, C1[0])"
      ],
      "execution_count": null,
      "outputs": []
    },
    {
      "cell_type": "code",
      "metadata": {
        "id": "J7xduuRoaS3m"
      },
      "source": [
        "# Estendendo o resultado para o modelo matemático\n",
        "Esn = Enn * (1/(R*C))\n",
        "Esn_solved = sp.simplify(sp.combsimp(Esn.doit()))\n",
        "\n",
        "Esn = Esn_solved + (1/(R*C)) * dirac"
      ],
      "execution_count": null,
      "outputs": []
    },
    {
      "cell_type": "code",
      "metadata": {
        "colab": {
          "base_uri": "https://localhost:8080/",
          "height": 38
        },
        "id": "uDS2QuArbeZU",
        "outputId": "171e9af9-07ad-4f34-dcc5-fe05c6503a5f"
      },
      "source": [
        "# Verificando Resposta de Estado Nulo\n",
        "Esn"
      ],
      "execution_count": null,
      "outputs": [
        {
          "output_type": "execute_result",
          "data": {
            "text/latex": "$\\displaystyle 12.5 \\delta\\left(t\\right) + 12.5 e^{- 12.5 t}$",
            "text/plain": [
              "12.5*DiracDelta(t) + 12.5*exp(-12.5*t)"
            ]
          },
          "metadata": {
            "tags": []
          },
          "execution_count": 29
        }
      ]
    },
    {
      "cell_type": "code",
      "metadata": {
        "id": "7VJI9JBOamlq"
      },
      "source": [
        "# Definindo V_c pela resposta de estado nulo\n",
        "τ = sp.symbols(\"τ\")\n",
        "R_Esn = sp.Integral(trg_signal.subs(t, τ)* Esn.subs(t, t-τ), (τ, 0, t))"
      ],
      "execution_count": null,
      "outputs": []
    },
    {
      "cell_type": "code",
      "metadata": {
        "id": "7yG5Ra1Bc_Wq"
      },
      "source": [
        "# Integrando no Intervalo Definido\n",
        "ans_R_Esn = R_Esn.doit()"
      ],
      "execution_count": null,
      "outputs": []
    },
    {
      "cell_type": "code",
      "metadata": {
        "id": "GSZ35GX9dgRJ"
      },
      "source": [
        "# Transformando V_t para relação funcional\n",
        "V_t = sp.lambdify(t, ans_R_Esn,\n",
        "                  modules=[{\"Heaviside\": lambda u: np.heaviside(u, 0)}, \"numpy\"])"
      ],
      "execution_count": null,
      "outputs": []
    },
    {
      "cell_type": "code",
      "metadata": {
        "colab": {
          "base_uri": "https://localhost:8080/"
        },
        "id": "05Us9qcbet3h",
        "outputId": "f67abca7-8e49-4e3e-bb0e-c5b0e0e59124"
      },
      "source": [
        "# Definindo um Intervalo de Observação\n",
        "range_x_obs = np.linspace(0, 15, 10000)\n",
        "\n",
        "# Plotando o gráfico\n",
        "plt.plot(range_x_obs, V_t(range_x_obs))\n",
        "plt.title(\"Espectro de Amplitude de V(t)\");\n",
        "plt.xlabel(\"Tempo (t)\")\n",
        "plt.ylabel(\"Amplitude (A)\")"
      ],
      "execution_count": null,
      "outputs": [
        {
          "output_type": "execute_result",
          "data": {
            "text/plain": [
              "Text(0, 0.5, 'Amplitude (A)')"
            ]
          },
          "metadata": {
            "tags": []
          },
          "execution_count": 33
        },
        {
          "output_type": "display_data",
          "data": {
            "image/png": "[encoded data removed]",
            "text/plain": [
              "<Figure size 432x288 with 1 Axes>"
            ]
          },
          "metadata": {
            "tags": [],
            "needs_background": "light"
          }
        }
      ]
    },
    {
      "cell_type": "markdown",
      "metadata": {
        "id": "dxvGrilHe9Vx"
      },
      "source": [
        "## **Item IV** ##\n",
        "Repita o exercício anterior para o sinal de entrada com $A = 2$, $T_o = 5$, $T_H = 2$ e\n",
        "$T_L = 3$"
      ]
    },
    {
      "cell_type": "code",
      "metadata": {
        "id": "KNDR5oGTe8-e"
      },
      "source": [
        "# Condições inicias do sistema\n",
        "T0 = 5\n",
        "Th = 2\n",
        "Tl = 3\n",
        "Ts = 2\n",
        "w0 = 2*sp.pi/T0\n",
        "signal = 2 # Observando no intervalo T0 Ts\n",
        "\n",
        "# Definindo os Simbolos\n",
        "k = sp.symbols(\"k\")\n",
        "t = sp.symbols(\"t\")\n",
        "j = sp.I"
      ],
      "execution_count": null,
      "outputs": []
    },
    {
      "cell_type": "code",
      "metadata": {
        "id": "qFn5i_GVIDVJ"
      },
      "source": [
        "# Definindo Xk para as novas condições iniciais\n",
        "Xk = (1/T0) * sp.Integral(signal * sp.exp(-j*k*w0*t), (t, 0, Ts))"
      ],
      "execution_count": null,
      "outputs": []
    },
    {
      "cell_type": "code",
      "metadata": {
        "id": "wI1O62dpIrmC"
      },
      "source": [
        "# Solução de Xk\n",
        "Xk_solved = sp.simplify(sp.combsimp(Xk.doit()))"
      ],
      "execution_count": null,
      "outputs": []
    },
    {
      "cell_type": "code",
      "metadata": {
        "id": "jZfrcuhxQuGr",
        "colab": {
          "base_uri": "https://localhost:8080/"
        },
        "outputId": "6f36afe2-5b5f-46c6-ac7a-3e77423a373c"
      },
      "source": [
        "# Visualizando a solução de Xk\n",
        "Xk_solved"
      ],
      "execution_count": null,
      "outputs": [
        {
          "output_type": "execute_result",
          "data": {
            "text/latex": "$\\displaystyle \\begin{cases} \\frac{1.0 i \\left(-1 + e^{- \\frac{4 i \\pi k}{5}}\\right)}{\\pi k} & \\text{for}\\: k > -\\infty \\wedge k < \\infty \\wedge k \\neq 0 \\\\0.8 & \\text{otherwise} \\end{cases}$",
            "text/plain": [
              "Piecewise((1.0*I*(-1 + exp(-4*I*pi*k/5))/(pi*k), (k > -oo) & (k < oo) & Ne(k, 0)), (0.8, True))"
            ]
          },
          "metadata": {
            "tags": []
          },
          "execution_count": 37
        }
      ]
    },
    {
      "cell_type": "code",
      "metadata": {
        "id": "uiJh1FP2Jurh"
      },
      "source": [
        "Xk_solved_λ = sp.lambdify(k, Xk_solved,\n",
        "                          modules=[\"numpy\"])"
      ],
      "execution_count": null,
      "outputs": []
    },
    {
      "cell_type": "code",
      "metadata": {
        "id": "rYtzzf3jI02G",
        "colab": {
          "base_uri": "https://localhost:8080/"
        },
        "outputId": "ca5bf110-77b0-4c22-d82d-f68bd855fbf5"
      },
      "source": [
        "trg_signal = Xk_solved_λ(0).tolist()\n",
        "\n",
        "for i in range(1,100):\n",
        "  trg_signal += (2*sp.re(Xk_solved_λ(i).tolist())*sp.cos(k*w0*t) - 2*sp.im(Xk_solved_λ(i).tolist())*sp.sin(k*w0*t)).subs(k, i)"
      ],
      "execution_count": null,
      "outputs": [
        {
          "output_type": "stream",
          "text": [
            "<string>:2: RuntimeWarning: invalid value encountered in cdouble_scalars\n"
          ],
          "name": "stderr"
        }
      ]
    },
    {
      "cell_type": "code",
      "metadata": {
        "id": "M0ddAeaJKZGI"
      },
      "source": [
        "# Transformando o sinal para a forma funcional\n",
        "signal_λ = sp.lambdify(t, \n",
        "                    trg_signal, modules=['numpy'])"
      ],
      "execution_count": null,
      "outputs": []
    },
    {
      "cell_type": "code",
      "metadata": {
        "id": "nm-8UET3KrzH"
      },
      "source": [
        "# Definindo range de observação\n",
        "range_x_ampli = np.linspace(-2*T0, 2*T0, 1000)\n",
        "range_y_ampli = [abs(signal_λ(t)) for t in range_x_ampli]"
      ],
      "execution_count": null,
      "outputs": []
    },
    {
      "cell_type": "code",
      "metadata": {
        "id": "jDxvtEw8K96N",
        "colab": {
          "base_uri": "https://localhost:8080/"
        },
        "outputId": "8d9e5389-6ca7-44b7-c50f-9ef4b6f19b92"
      },
      "source": [
        "# Plotando o gráfico\n",
        "plt.plot(range_x_ampli, range_y_ampli)\n",
        "plt.title(\"Amplitude das fases do sinal x(t)\");\n",
        "plt.xlabel(\"Tempo (t)\")\n",
        "plt.ylabel(\"Amplitude (A)\")"
      ],
      "execution_count": null,
      "outputs": [
        {
          "output_type": "execute_result",
          "data": {
            "text/plain": [
              "Text(0, 0.5, 'Amplitude (A)')"
            ]
          },
          "metadata": {
            "tags": []
          },
          "execution_count": 42
        },
        {
          "output_type": "display_data",
          "data": {
            "image/png": "[encoded data removed]",
            "text/plain": [
              "<Figure size 432x288 with 1 Axes>"
            ]
          },
          "metadata": {
            "tags": [],
            "needs_background": "light"
          }
        }
      ]
    }
  ]
}