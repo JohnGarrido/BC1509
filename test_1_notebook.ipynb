{
 "cells": [
  {
   "cell_type": "markdown",
   "metadata": {
    "id": "a7BXVRVQfMKZ"
   },
   "source": [
    "# **Prova I - Transformadas em Sinais e Sistemas Lineares**  \n",
    "**Nome**: João Vitor Garrido\\\n",
    "**RA**: 11201811064 \n",
    "\n",
    "---\n",
    "\n"
   ]
  },
  {
   "cell_type": "markdown",
   "metadata": {
    "id": "CKR00BE9ic5h"
   },
   "source": [
    "# **Importação dos Pacotes Utilizados**\n",
    "\n",
    "\n"
   ]
  },
  {
   "cell_type": "code",
   "execution_count": 1,
   "metadata": {
    "id": "kSGqffe5idQe"
   },
   "outputs": [],
   "source": [
    "# Bibliotecas Científicas e de Álgebra Linear\n",
    "import sympy as sp\n",
    "import numpy as np\n",
    "import math\n",
    "\n",
    "# Configurações de Visualização \n",
    "import matplotlib.pyplot as plt\n",
    "\n",
    "# Configurações de Warnings\n",
    "import warnings\n",
    "warnings.filterwarnings('ignore')"
   ]
  },
  {
   "cell_type": "markdown",
   "metadata": {
    "id": "hf4BjFYmdcpE"
   },
   "source": [
    "# **Enunciado**\n",
    "\n",
    "\n"
   ]
  },
  {
   "cell_type": "markdown",
   "metadata": {
    "id": "JffiupnQd4YA"
   },
   "source": [
    "Considere o sinal de tensão no capacitor vc (t) como\n",
    "a saída do circuito.\n",
    "Sabendo que: \\\\\n",
    "\n",
    "$$v_{c}(t)=\\frac{1}{C} \\int_{0}^{2} i(\\tau) d \\tau$$\n",
    "\n",
    "O modelo matemático é:\n",
    "\n",
    "$$(D + 1/RC)vc (t) = (1/RC)x(t)$$\n",
    "$$ R = 0.8Ω e C = 0.1F$$"
   ]
  },
  {
   "cell_type": "markdown",
   "metadata": {
    "id": "TP2ZZRyadjcD"
   },
   "source": [
    "# **Itens I, II e III**\n",
    "\n",
    "Calcule $V_c(t)$ para o sinal periódico quadrado mostrado com T0 = 4 e Ts = 1,\n",
    "considere nula a carga inicial do capacitor, isto é, $V_c(0) = 0$ e obtenha os gráficos dos sinais $v(t)$, $i(t)$ e $v_c(t)$ e os espectros de amplitude e fase dos sinais obtidos\n"
   ]
  },
  {
   "cell_type": "markdown",
   "metadata": {
    "id": "EyKA_slVZdqa"
   },
   "source": [
    "**I. Gráfico e Espectros do sinal v(t)**"
   ]
  },
  {
   "cell_type": "code",
   "execution_count": 2,
   "metadata": {
    "id": "YPie-lDsh3L1"
   },
   "outputs": [],
   "source": [
    "# Atributos do sinal\n",
    "T0 = 4\n",
    "Ts = 1\n",
    "w0 = 2*sp.pi/T0"
   ]
  },
  {
   "cell_type": "code",
   "execution_count": 3,
   "metadata": {
    "id": "ONOoVsqqOjxr"
   },
   "outputs": [],
   "source": [
    "# Série Trigonométrica\n",
    "a0 = 2*Ts/T0; # o coeficiente a0\n",
    "ak = lambda k: (2/(k*np.pi))*np.sin(k*2*np.pi*Ts/T0); # o coeficientes como função de k\n",
    "bk = lambda k: 0;"
   ]
  },
  {
   "cell_type": "code",
   "execution_count": 4,
   "metadata": {
    "id": "oJaY0ZNSPgjR"
   },
   "outputs": [],
   "source": [
    "# Série Compacta\n",
    "c0 = a0; # o coeficiente c0\n",
    "ck = lambda k: np.sqrt(ak(k)**2 + bk(k)**2); # o coeficente ck\n",
    "thk = lambda k: -np.arctan2(bk(k), ak(k)); # o ângulo theta(k)"
   ]
  },
  {
   "cell_type": "code",
   "execution_count": 5,
   "metadata": {
    "id": "nxyruHgdhjbF"
   },
   "outputs": [],
   "source": [
    "# Intervalo de observação\n",
    "time = np.linspace(-T0-Ts-1, T0+Ts+1, 100)"
   ]
  },
  {
   "cell_type": "code",
   "execution_count": 6,
   "metadata": {
    "id": "PsDV0DPqQnyB"
   },
   "outputs": [],
   "source": [
    "# Definindo a variável tempo (t) e imaginário (j)\n",
    "t = sp.symbols(\"t\")\n",
    "j = sp.I\n",
    "\n",
    "# Definindo o sinal\n",
    "trg_signal = a0\n",
    "cpc_signal = c0\n",
    "\n",
    "# Número de termos da Série de Fourier\n",
    "N = 500\n",
    "\n",
    "# Calculando para os N termos\n",
    "for k in range(1, N):\n",
    "  trg_signal += ak(k) * sp.cos(k*w0*t) + bk(k) * sp.sin(k*w0*t)\n",
    "  cpc_signal += ck(k) * sp.cos(k*w0*t + thk(k))"
   ]
  },
  {
   "cell_type": "code",
   "execution_count": 7,
   "metadata": {
    "id": "deTzIWXOYirH"
   },
   "outputs": [],
   "source": [
    "# Transformando para relação funcional\n",
    "trg_signal_λ = sp.lambdify(t, trg_signal, \n",
    "            modules=[\"numpy\"])"
   ]
  },
  {
   "cell_type": "code",
   "execution_count": 8,
   "metadata": {
    "colab": {
     "base_uri": "https://localhost:8080/",
     "height": 312
    },
    "id": "i4ajbC4aZzOs",
    "outputId": "7f8d23a0-c58b-4eca-fc5d-dc02d387a6c4"
   },
   "outputs": [
    {
     "data": {
      "image/png": "[encoded data removed]",
      "text/plain": [
       "<Figure size 432x288 with 1 Axes>"
      ]
     },
     "metadata": {
      "needs_background": "light"
     },
     "output_type": "display_data"
    }
   ],
   "source": [
    "# Plot da função\n",
    "plt.plot(time, trg_signal_λ(time));\n",
    "plt.title(\"Amplitude das fases do sinal x(t)\");\n",
    "plt.xlabel(\"Amplitude (A)\");\n",
    "plt.ylabel(\"Tempo (t)\");"
   ]
  },
  {
   "cell_type": "code",
   "execution_count": 9,
   "metadata": {
    "id": "6ciJ8qFTdnDu"
   },
   "outputs": [],
   "source": [
    "# Atributos da Série Complexa\n",
    "A = 1\n",
    "signal = 1 # x(t) de T0 a Ts\n",
    "k = sp.symbols(\"k\")\n",
    "\n",
    "# Definindo a Série Complexa\n",
    "Xk = (T0)**(-1) * (sp.Integral(signal * sp.exp(-j*k*w0*t), \n",
    "                         (t, -Ts, Ts)))\n",
    "Xk_solved = sp.simplify(sp.combsimp(Xk.doit()))"
   ]
  },
  {
   "cell_type": "code",
   "execution_count": 10,
   "metadata": {
    "id": "1r-5CZZNELe2"
   },
   "outputs": [],
   "source": [
    "# Obtendo valores do espectro de amplitude de x(t)\n",
    "range_x_ampli = np.linspace(0, 50, 50 + 1)\n",
    "range_y_ampli = [abs(Xk_solved.subs(k, i)) for i in range_x_ampli]"
   ]
  },
  {
   "cell_type": "code",
   "execution_count": 11,
   "metadata": {
    "id": "ZUoNEsiRGx6S"
   },
   "outputs": [],
   "source": [
    "# Obtendo valores do espectro de fase de x(t)\n",
    "phase = lambda i: sp.atan((2*sp.im(Xk_solved.subs(k, i))) / (2*sp.re(Xk_solved.subs(k, i))))\n",
    "\n",
    "raw_phases = [abs(phase(k)) for k in range_x_ampli]\n",
    "range_y_phases = [-np.pi if phs == sp.nan else phs for phs in raw_phases]"
   ]
  },
  {
   "cell_type": "code",
   "execution_count": 12,
   "metadata": {
    "colab": {
     "base_uri": "https://localhost:8080/",
     "height": 366
    },
    "id": "paibqlHmEMm_",
    "outputId": "d58649c0-056d-42c9-cfde-5a98be2edd46"
   },
   "outputs": [
    {
     "data": {
      "text/plain": [
       "Text(0, 0.5, 'Corrente I(t)')"
      ]
     },
     "execution_count": 12,
     "metadata": {},
     "output_type": "execute_result"
    },
    {
     "data": {
      "image/png": "[encoded data removed]",
      "text/plain": [
       "<Figure size 432x288 with 1 Axes>"
      ]
     },
     "metadata": {
      "needs_background": "light"
     },
     "output_type": "display_data"
    }
   ],
   "source": [
    "plt.stem(range_x_ampli, np.array(range_y_ampli, dtype=float))\n",
    "plt.title(\"Espectro de Amplitude de x(t)\")\n",
    "plt.xlabel(\"k\")\n",
    "plt.ylabel(\"Corrente I(t)\")"
   ]
  },
  {
   "cell_type": "code",
   "execution_count": 13,
   "metadata": {
    "colab": {
     "base_uri": "https://localhost:8080/",
     "height": 366
    },
    "id": "_VrwoZ4-Vff5",
    "outputId": "803581a7-81be-4ee9-a3f7-bc1f7f0601e4"
   },
   "outputs": [
    {
     "data": {
      "image/png": "[encoded data removed]",
      "text/plain": [
       "<Figure size 432x288 with 1 Axes>"
      ]
     },
     "metadata": {
      "needs_background": "light"
     },
     "output_type": "display_data"
    }
   ],
   "source": [
    "plt.stem(range_x_ampli, range_y_phases);\n",
    "plt.title(\"Espectro de Frequência de x(t)\");\n",
    "plt.xlabel(\"k\");\n",
    "plt.ylabel(\"Frequência\");"
   ]
  },
  {
   "cell_type": "markdown",
   "metadata": {
    "id": "xHI0Jy0sKyrJ"
   },
   "source": [
    "**II. Gráfico e Espectros do sinal i(t)**"
   ]
  },
  {
   "cell_type": "code",
   "execution_count": 14,
   "metadata": {
    "id": "cjSqpl3MEPsr"
   },
   "outputs": [],
   "source": [
    "# Valor Nominal das Componentes\n",
    "R = 0.8\n",
    "C = 0.1"
   ]
  },
  {
   "cell_type": "code",
   "execution_count": 15,
   "metadata": {
    "id": "Vv9Z2nwsLEAq"
   },
   "outputs": [],
   "source": [
    "# Resposta em Frequência\n",
    "H_i = (j*k*2*sp.pi / 4 / R) / (j*k*2*sp.pi/4 + (1/(R*C)))\n",
    "\n",
    "# Definindo Xk_til\n",
    "Xk_solved_λ = sp.lambdify(k, Xk_solved,\n",
    "                          modules=[\"numpy\"])\n",
    "\n",
    "Xk_til = Xk_solved * H_i\n",
    "Xk_til_λ = sp.lambdify(k, Xk_til, \n",
    "                       modules=[\"numpy\"])\n",
    "\n",
    "a0_til = 0\n",
    "ak_til = lambda i: 2*sp.re(Xk_til_λ(i))\n",
    "bk_til = lambda i: -2*sp.im(Xk_til_λ(i))"
   ]
  },
  {
   "cell_type": "code",
   "execution_count": 16,
   "metadata": {
    "id": "V07-1UKMRJjd"
   },
   "outputs": [],
   "source": [
    "N = 100;\n",
    "it = a0_til\n",
    "\n",
    "for k in range(1, N):\n",
    "  it += (Xk_solved_λ(k) * ((j*k*w0/R)/ (j*k*w0+ (1/(R*C)))) * sp.exp(j*k*w0*t))"
   ]
  },
  {
   "cell_type": "code",
   "execution_count": 17,
   "metadata": {
    "id": "Us_j6fsjTiqQ"
   },
   "outputs": [],
   "source": [
    "it_λ = sp.lambdify(t, it, modules=[\"numpy\"])"
   ]
  },
  {
   "cell_type": "code",
   "execution_count": 18,
   "metadata": {
    "colab": {
     "base_uri": "https://localhost:8080/",
     "height": 346
    },
    "id": "yPf-YzrjTxpp",
    "outputId": "715c4b4b-2d19-4950-ce54-17709b1c477d"
   },
   "outputs": [
    {
     "data": {
      "image/png": "[encoded data removed]",
      "text/plain": [
       "<Figure size 432x288 with 1 Axes>"
      ]
     },
     "metadata": {
      "needs_background": "light"
     },
     "output_type": "display_data"
    }
   ],
   "source": [
    "plt.plot(np.linspace(0, 10, 10000), it_λ(np.linspace(0, 10, 10000)));\n",
    "plt.title(\"Amplitude das fases do sinal x(t)\");\n",
    "plt.xlabel(\"Tempo (t)\");\n",
    "plt.ylabel(\"Amplitude (A)\");"
   ]
  },
  {
   "cell_type": "code",
   "execution_count": 19,
   "metadata": {
    "colab": {
     "base_uri": "https://localhost:8080/"
    },
    "id": "E8P97Hi8WQNz",
    "outputId": "a0fd9f64-3130-42cb-e423-2b1065400a29"
   },
   "outputs": [],
   "source": [
    "range_y_i_ampli = [abs(Xk_til_λ(i)) for i in range_x_ampli]"
   ]
  },
  {
   "cell_type": "code",
   "execution_count": 20,
   "metadata": {
    "colab": {
     "base_uri": "https://localhost:8080/",
     "height": 366
    },
    "id": "lenzVpwkWtk5",
    "outputId": "8f152422-88ba-4b64-d366-7e2f8f8e997e"
   },
   "outputs": [
    {
     "data": {
      "image/png": "[encoded data removed]",
      "text/plain": [
       "<Figure size 432x288 with 1 Axes>"
      ]
     },
     "metadata": {
      "needs_background": "light"
     },
     "output_type": "display_data"
    }
   ],
   "source": [
    "plt.stem(range_x_ampli, range_y_i_ampli);\n",
    "plt.title(\"Espectro de Amplitude de i(t)\");\n",
    "plt.xlabel(\"k\");\n",
    "plt.ylabel(\"Módulo de X(k)\");"
   ]
  },
  {
   "cell_type": "code",
   "execution_count": 21,
   "metadata": {
    "colab": {
     "base_uri": "https://localhost:8080/"
    },
    "id": "q3zHK_d1XPU7",
    "outputId": "32727680-90cc-427f-f518-14167a5f596d"
   },
   "outputs": [],
   "source": [
    "# Obtendo valores do espectro de fase de i(t)\n",
    "phase_i = lambda i: -sp.atan((2*sp.im(Xk_til_λ(i))) / (2*sp.re(Xk_til_λ(i))));\n",
    "\n",
    "raw_phases_i = [phase_i(k) for k in range_x_ampli]\n",
    "range_y_phases_i = [-np.pi if phs == sp.nan else phs for phs in raw_phases_i]"
   ]
  },
  {
   "cell_type": "code",
   "execution_count": 22,
   "metadata": {
    "colab": {
     "base_uri": "https://localhost:8080/",
     "height": 334
    },
    "id": "Eys8cPizXmIV",
    "outputId": "a546997b-4f43-4bbf-f14d-d0403dc3d1fe"
   },
   "outputs": [
    {
     "data": {
      "image/png": "[encoded data removed]",
      "text/plain": [
       "<Figure size 432x288 with 1 Axes>"
      ]
     },
     "metadata": {
      "needs_background": "light"
     },
     "output_type": "display_data"
    }
   ],
   "source": [
    "plt.stem(range_x_ampli, range_y_phases_i)\n",
    "plt.title(\"Espectro de Frequência de i(t)\");"
   ]
  },
  {
   "cell_type": "markdown",
   "metadata": {
    "id": "f8jq63vHK0_9"
   },
   "source": [
    "**III. Gráfico e Espectros do sinal vc(t)**"
   ]
  },
  {
   "cell_type": "code",
   "execution_count": 23,
   "metadata": {
    "colab": {
     "base_uri": "https://localhost:8080/",
     "height": 52
    },
    "id": "Drr6NVMIT-El",
    "outputId": "7011c8f3-7bff-4f79-8779-8fa195ce019d"
   },
   "outputs": [
    {
     "data": {
      "text/latex": [
       "$\\displaystyle 12.5 \\operatorname{Enn}{\\left(t \\right)} + \\frac{d}{d t} \\operatorname{Enn}{\\left(t \\right)} = 0$"
      ],
      "text/plain": [
       "Eq(12.5*Enn(t) + Derivative(Enn(t), t), 0)"
      ]
     },
     "execution_count": 23,
     "metadata": {},
     "output_type": "execute_result"
    }
   ],
   "source": [
    "# Modelo matemático\n",
    "Enn = sp.Function(\"Enn\") # Resposta de Entrada Nula\n",
    "Esn = sp.Function(\"Esn\") # Resposta de Estado Nulo\n",
    "\n",
    "# Modelo Matemático\n",
    "model = sp.Eq(sp.diff(Enn(t), t, 1) + (1/(R*C)) * Enn(t), 0)\n",
    "model"
   ]
  },
  {
   "cell_type": "code",
   "execution_count": 24,
   "metadata": {
    "id": "MnWYB5zrWQ_E"
   },
   "outputs": [],
   "source": [
    "# Aplicando o Impulso Unitário\n",
    "dirac = sp.DiracDelta(t)\n",
    "resposta = sp.dsolve(model, hint=\"best\")"
   ]
  },
  {
   "cell_type": "code",
   "execution_count": 25,
   "metadata": {
    "colab": {
     "base_uri": "https://localhost:8080/",
     "height": 38
    },
    "id": "oYLReh0TUXNT",
    "outputId": "00e856e0-d35f-40f4-c97a-8a6e3dae9d8d"
   },
   "outputs": [
    {
     "data": {
      "text/latex": [
       "$\\displaystyle \\operatorname{Enn}{\\left(t \\right)} = C_{1} e^{- 12.5 t}$"
      ],
      "text/plain": [
       "Eq(Enn(t), C1*exp(-12.5*t))"
      ]
     },
     "execution_count": 25,
     "metadata": {},
     "output_type": "execute_result"
    }
   ],
   "source": [
    "# Verificando a resposta do sistema\n",
    "resposta"
   ]
  },
  {
   "cell_type": "code",
   "execution_count": 26,
   "metadata": {
    "colab": {
     "base_uri": "https://localhost:8080/"
    },
    "id": "NS6CFVdQX4Iv",
    "outputId": "27bddecc-a93d-40da-9213-e6e64cb3946c"
   },
   "outputs": [
    {
     "data": {
      "text/plain": [
       "[1]"
      ]
     },
     "execution_count": 26,
     "metadata": {},
     "output_type": "execute_result"
    }
   ],
   "source": [
    "# Descobrindo a constante pelo lado direito da equação\n",
    "constant = \"C1\"\n",
    "equation_right_side = resposta.rhs\n",
    "C1 = sp.solve(sp.Eq(equation_right_side.subs(t, 0), 1))\n",
    "C1"
   ]
  },
  {
   "cell_type": "code",
   "execution_count": 27,
   "metadata": {
    "id": "h-J3MDMCZ-LO"
   },
   "outputs": [],
   "source": [
    "# Aplicando o valor de C1 \n",
    "Enn = resposta.rhs.subs(constant, C1[0])"
   ]
  },
  {
   "cell_type": "code",
   "execution_count": 28,
   "metadata": {
    "id": "J7xduuRoaS3m"
   },
   "outputs": [],
   "source": [
    "# Estendendo o resultado para o modelo matemático\n",
    "Esn = Enn * (1/(R*C))\n",
    "Esn_solved = sp.simplify(sp.combsimp(Esn.doit()))\n",
    "\n",
    "Esn = Esn_solved + (1/(R*C)) * dirac"
   ]
  },
  {
   "cell_type": "code",
   "execution_count": 29,
   "metadata": {
    "colab": {
     "base_uri": "https://localhost:8080/",
     "height": 38
    },
    "id": "uDS2QuArbeZU",
    "outputId": "7eef583d-00b4-4b40-dd3d-4339f492e125"
   },
   "outputs": [
    {
     "data": {
      "text/latex": [
       "$\\displaystyle 12.5 \\delta\\left(t\\right) + 12.5 e^{- 12.5 t}$"
      ],
      "text/plain": [
       "12.5*DiracDelta(t) + 12.5*exp(-12.5*t)"
      ]
     },
     "execution_count": 29,
     "metadata": {},
     "output_type": "execute_result"
    }
   ],
   "source": [
    "# Verificando Resposta de Estado Nulo\n",
    "Esn"
   ]
  },
  {
   "cell_type": "code",
   "execution_count": 30,
   "metadata": {
    "id": "7VJI9JBOamlq"
   },
   "outputs": [],
   "source": [
    "# Definindo V_c pela resposta de estado nulo\n",
    "τ = sp.symbols(\"τ\")\n",
    "R_Esn = sp.Integral(trg_signal.subs(t, τ)* Esn.subs(t, t-τ), (τ, 0, t))"
   ]
  },
  {
   "cell_type": "code",
   "execution_count": 31,
   "metadata": {
    "id": "7yG5Ra1Bc_Wq"
   },
   "outputs": [],
   "source": [
    "# Integrando no Intervalo Definido\n",
    "ans_R_Esn = R_Esn.doit()"
   ]
  },
  {
   "cell_type": "code",
   "execution_count": 32,
   "metadata": {
    "id": "GSZ35GX9dgRJ"
   },
   "outputs": [],
   "source": [
    "# Transformando V_t para relação funcional\n",
    "V_t = sp.lambdify(t, ans_R_Esn,\n",
    "                  modules=[{\"Heaviside\": lambda u: np.heaviside(u, 0)}, \"numpy\"])"
   ]
  },
  {
   "cell_type": "code",
   "execution_count": 33,
   "metadata": {
    "id": "05Us9qcbet3h"
   },
   "outputs": [
    {
     "data": {
      "text/plain": [
       "Text(0, 0.5, 'Amplitude (A)')"
      ]
     },
     "execution_count": 33,
     "metadata": {},
     "output_type": "execute_result"
    },
    {
     "data": {
      "image/png": "[encoded data removed]",
      "text/plain": [
       "<Figure size 432x288 with 1 Axes>"
      ]
     },
     "metadata": {
      "needs_background": "light"
     },
     "output_type": "display_data"
    }
   ],
   "source": [
    "# Definindo um Intervalo de Observação\n",
    "range_x_obs = np.linspace(0, 15, 10000)\n",
    "\n",
    "# Plotando o gráfico\n",
    "plt.plot(range_x_obs, V_t(range_x_obs))\n",
    "plt.title(\"Espectro de Amplitude de V(t)\");\n",
    "plt.xlabel(\"Tempo (t)\")\n",
    "plt.ylabel(\"Amplitude (A)\")"
   ]
  },
  {
   "cell_type": "markdown",
   "metadata": {
    "id": "dxvGrilHe9Vx"
   },
   "source": [
    "## **Item IV** ##\n",
    "Repita o exercício anterior para o sinal de entrada com $A = 2$, $T_o = 5$, $T_H = 2$ e\n",
    "$T_L = 3$"
   ]
  },
  {
   "cell_type": "code",
   "execution_count": 34,
   "metadata": {
    "id": "KNDR5oGTe8-e"
   },
   "outputs": [],
   "source": [
    "# Condições inicias do sistema\n",
    "T0 = 5\n",
    "Th = 2\n",
    "Tl = 3\n",
    "Ts = 2\n",
    "w0 = 2*sp.pi/T0\n",
    "signal = 2 # Observando no intervalo T0 Ts\n",
    "A = 2\n",
    "\n",
    "# Definindo os Simbolos\n",
    "k = sp.symbols(\"k\")\n",
    "t = sp.symbols(\"t\")\n",
    "j = sp.I"
   ]
  },
  {
   "cell_type": "code",
   "execution_count": 35,
   "metadata": {
    "id": "qFn5i_GVIDVJ"
   },
   "outputs": [],
   "source": [
    "# Definindo Xk para as novas condições iniciais\n",
    "Xk = (1/T0) * sp.Integral(signal * sp.exp(-j*k*w0*t), (t, 0, Ts))"
   ]
  },
  {
   "cell_type": "code",
   "execution_count": 36,
   "metadata": {
    "id": "wI1O62dpIrmC"
   },
   "outputs": [],
   "source": [
    "# Solução de Xk\n",
    "Xk_solved = sp.simplify(sp.combsimp(Xk.doit()))"
   ]
  },
  {
   "cell_type": "code",
   "execution_count": 37,
   "metadata": {
    "id": "jZfrcuhxQuGr"
   },
   "outputs": [
    {
     "data": {
      "text/latex": [
       "$\\displaystyle \\begin{cases} \\frac{1.0 i \\left(-1 + e^{- \\frac{4 i \\pi k}{5}}\\right)}{\\pi k} & \\text{for}\\: k > -\\infty \\wedge k < \\infty \\wedge k \\neq 0 \\\\0.8 & \\text{otherwise} \\end{cases}$"
      ],
      "text/plain": [
       "Piecewise((1.0*I*(-1 + exp(-4*I*pi*k/5))/(pi*k), (k > -oo) & (k < oo) & Ne(k, 0)), (0.8, True))"
      ]
     },
     "execution_count": 37,
     "metadata": {},
     "output_type": "execute_result"
    }
   ],
   "source": [
    "# Visualizando a solução de Xk\n",
    "Xk_solved"
   ]
  },
  {
   "cell_type": "code",
   "execution_count": 38,
   "metadata": {
    "id": "uiJh1FP2Jurh"
   },
   "outputs": [],
   "source": [
    "Xk_solved_λ = sp.lambdify(k, Xk_solved,\n",
    "                          modules=[\"numpy\"])"
   ]
  },
  {
   "cell_type": "code",
   "execution_count": 39,
   "metadata": {
    "id": "rYtzzf3jI02G"
   },
   "outputs": [],
   "source": [
    "trg_signal = Xk_solved_λ(0).tolist()\n",
    "\n",
    "for i in range(1,100):\n",
    "  trg_signal += (2*sp.re(Xk_solved_λ(i).tolist())*sp.cos(k*w0*t) - 2*sp.im(Xk_solved_λ(i).tolist())*sp.sin(k*w0*t)).subs(k, i)"
   ]
  },
  {
   "cell_type": "code",
   "execution_count": 40,
   "metadata": {
    "id": "M0ddAeaJKZGI"
   },
   "outputs": [],
   "source": [
    "# Transformando o sinal para a forma funcional\n",
    "signal_λ = sp.lambdify(t, \n",
    "                    trg_signal, modules=['numpy'])"
   ]
  },
  {
   "cell_type": "code",
   "execution_count": 41,
   "metadata": {
    "id": "nm-8UET3KrzH"
   },
   "outputs": [],
   "source": [
    "# Definindo range de observação\n",
    "range_x_ampli = np.linspace(-2*T0, 2*T0, 1000)"
   ]
  },
  {
   "cell_type": "code",
   "execution_count": 42,
   "metadata": {
    "id": "jDxvtEw8K96N"
   },
   "outputs": [
    {
     "data": {
      "image/png": "[encoded data removed]",
      "text/plain": [
       "<Figure size 432x288 with 1 Axes>"
      ]
     },
     "metadata": {
      "needs_background": "light"
     },
     "output_type": "display_data"
    }
   ],
   "source": [
    "# Plotando o gráfico\n",
    "plt.plot(range_x_ampli, signal_λ(range_x_ampli))\n",
    "plt.title(\"Amplitude das fases do sinal x(t)\");\n",
    "plt.xlabel(\"Tempo (t)\");\n",
    "plt.ylabel(\"Amplitude (A)\");"
   ]
  },
  {
   "cell_type": "code",
   "execution_count": 43,
   "metadata": {},
   "outputs": [],
   "source": [
    "# Definindo a Série Complexa\n",
    "Xk = (T0)**(-1) * (sp.Integral(signal * sp.exp(-j*k*w0*t), \n",
    "                         (t, 0, Ts)))\n",
    "Xk_solved = sp.simplify(sp.combsimp(Xk.doit()))"
   ]
  },
  {
   "cell_type": "code",
   "execution_count": 44,
   "metadata": {},
   "outputs": [],
   "source": [
    "Xk_solved_λ = sp.lambdify(k, Xk_solved,\n",
    "                         modules=[\"numpy\"])"
   ]
  },
  {
   "cell_type": "code",
   "execution_count": 45,
   "metadata": {},
   "outputs": [],
   "source": [
    "# Obtendo valores do espectro de amplitude de x(t)\n",
    "range_x_ampli = np.linspace(0, 50, 50 + 1)\n",
    "range_y_ampli = [abs(Xk_solved_λ(i)) for i in range_x_ampli]"
   ]
  },
  {
   "cell_type": "code",
   "execution_count": 46,
   "metadata": {},
   "outputs": [
    {
     "data": {
      "image/png": "[encoded data removed]",
      "text/plain": [
       "<Figure size 432x288 with 1 Axes>"
      ]
     },
     "metadata": {
      "needs_background": "light"
     },
     "output_type": "display_data"
    }
   ],
   "source": [
    "plt.stem(range_x_ampli, range_y_ampli)\n",
    "plt.title(\"Espectro de Amplitude de x(t)\");\n",
    "plt.xlabel(\"k\");\n",
    "plt.ylabel(\"Corrente I(t)\");"
   ]
  },
  {
   "cell_type": "code",
   "execution_count": 47,
   "metadata": {},
   "outputs": [],
   "source": [
    "# Obtendo valores do espectro de fase de x(t)\n",
    "phase = lambda i: sp.atan((2*sp.im(Xk_solved_λ(i).tolist())) / (2*sp.re(Xk_solved_λ(i).tolist())))\n",
    "\n",
    "raw_phases = [phase(k) for k in range_x_ampli]\n",
    "range_y_phases = [-np.pi if phs == sp.nan else phs for phs in raw_phases]"
   ]
  },
  {
   "cell_type": "code",
   "execution_count": 48,
   "metadata": {},
   "outputs": [
    {
     "data": {
      "image/png": "[encoded data removed]",
      "text/plain": [
       "<Figure size 432x288 with 1 Axes>"
      ]
     },
     "metadata": {
      "needs_background": "light"
     },
     "output_type": "display_data"
    }
   ],
   "source": [
    "plt.stem(range_x_ampli, np.array(range_y_phases, dtype=float));\n",
    "plt.title(\"Espectro de Frequência de x(t)\");\n",
    "plt.xlabel(\"k\");\n",
    "plt.ylabel(\"Frequência\");"
   ]
  }
 ],
 "metadata": {
  "colab": {
   "collapsed_sections": [],
   "name": "p1 transformadas",
   "provenance": []
  },
  "kernelspec": {
   "display_name": "Python 3",
   "language": "python",
   "name": "python3"
  },
  "language_info": {
   "codemirror_mode": {
    "name": "ipython",
    "version": 3
   },
   "file_extension": ".py",
   "mimetype": "text/x-python",
   "name": "python",
   "nbconvert_exporter": "python",
   "pygments_lexer": "ipython3",
   "version": "3.8.7"
  }
 },
 "nbformat": 4,
 "nbformat_minor": 4
}
